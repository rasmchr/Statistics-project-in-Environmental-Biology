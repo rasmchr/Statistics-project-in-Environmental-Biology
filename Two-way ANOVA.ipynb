{
 "cells": [
  {
   "cell_type": "markdown",
   "id": "859eeb32",
   "metadata": {},
   "source": [
    "# Statistical analysis on biovolume with temperature and media as factors\n",
    "\n",
    "First we import all relevant libraries. Then import our nitrogen removal data (biovolume_SBWW.xlsx and biovolume_BBM.xlsx) the dataframe is displayed below. \n",
    "\n",
    "Since we have multiple groups with one independent variable (temperature and media) and want to compare them we do an two-way ANOVA for statistical analysis. Therefore before we do so we need to check if we violate the assumptions for doing the two-way ANOVA analysis. Assumptions are normality and equal variance. The analysis for determining if these assumptions hold are Shapiro-wilks and Levene's test respectivly. "
   ]
  },
  {
   "cell_type": "code",
   "execution_count": 34,
   "id": "e9f031bf",
   "metadata": {},
   "outputs": [],
   "source": [
    "import numpy as np\n",
    "from scipy import stats\n",
    "import pandas as pd\n",
    "import scikit_posthocs as sp"
   ]
  },
  {
   "cell_type": "code",
   "execution_count": 35,
   "id": "90dda266",
   "metadata": {},
   "outputs": [
    {
     "data": {
      "text/html": [
       "<div>\n",
       "<style scoped>\n",
       "    .dataframe tbody tr th:only-of-type {\n",
       "        vertical-align: middle;\n",
       "    }\n",
       "\n",
       "    .dataframe tbody tr th {\n",
       "        vertical-align: top;\n",
       "    }\n",
       "\n",
       "    .dataframe thead th {\n",
       "        text-align: right;\n",
       "    }\n",
       "</style>\n",
       "<table border=\"1\" class=\"dataframe\">\n",
       "  <thead>\n",
       "    <tr style=\"text-align: right;\">\n",
       "      <th></th>\n",
       "      <th>SBWW_10</th>\n",
       "      <th>SBWW_15</th>\n",
       "      <th>SBWW_20</th>\n",
       "      <th>SBWW_25</th>\n",
       "    </tr>\n",
       "  </thead>\n",
       "  <tbody>\n",
       "    <tr>\n",
       "      <th>0</th>\n",
       "      <td>2001000000</td>\n",
       "      <td>3071000000</td>\n",
       "      <td>1650000000</td>\n",
       "      <td>2921000000</td>\n",
       "    </tr>\n",
       "    <tr>\n",
       "      <th>1</th>\n",
       "      <td>1609000000</td>\n",
       "      <td>1788000000</td>\n",
       "      <td>1874000000</td>\n",
       "      <td>3737000000</td>\n",
       "    </tr>\n",
       "    <tr>\n",
       "      <th>2</th>\n",
       "      <td>1504000000</td>\n",
       "      <td>5224000000</td>\n",
       "      <td>1509000000</td>\n",
       "      <td>2423000000</td>\n",
       "    </tr>\n",
       "  </tbody>\n",
       "</table>\n",
       "</div>"
      ],
      "text/plain": [
       "      SBWW_10     SBWW_15     SBWW_20     SBWW_25\n",
       "0  2001000000  3071000000  1650000000  2921000000\n",
       "1  1609000000  1788000000  1874000000  3737000000\n",
       "2  1504000000  5224000000  1509000000  2423000000"
      ]
     },
     "metadata": {},
     "output_type": "display_data"
    }
   ],
   "source": [
    "df1 = pd.read_excel('biovolume_SBWW.xlsx')\n",
    "df2 = pd.read_excel('biovolume_BBM.xlsx')\n",
    "display(df1) #Making dataframe from excel file"
   ]
  },
  {
   "cell_type": "code",
   "execution_count": 36,
   "id": "d9f81e98",
   "metadata": {},
   "outputs": [
    {
     "data": {
      "text/html": [
       "<div>\n",
       "<style scoped>\n",
       "    .dataframe tbody tr th:only-of-type {\n",
       "        vertical-align: middle;\n",
       "    }\n",
       "\n",
       "    .dataframe tbody tr th {\n",
       "        vertical-align: top;\n",
       "    }\n",
       "\n",
       "    .dataframe thead th {\n",
       "        text-align: right;\n",
       "    }\n",
       "</style>\n",
       "<table border=\"1\" class=\"dataframe\">\n",
       "  <thead>\n",
       "    <tr style=\"text-align: right;\">\n",
       "      <th></th>\n",
       "      <th>BBM_10</th>\n",
       "      <th>BBM_15</th>\n",
       "      <th>BBM_20</th>\n",
       "      <th>BBM_25</th>\n",
       "    </tr>\n",
       "  </thead>\n",
       "  <tbody>\n",
       "    <tr>\n",
       "      <th>0</th>\n",
       "      <td>1726000000</td>\n",
       "      <td>2463000000</td>\n",
       "      <td>2296000000</td>\n",
       "      <td>4258000000</td>\n",
       "    </tr>\n",
       "    <tr>\n",
       "      <th>1</th>\n",
       "      <td>1756000000</td>\n",
       "      <td>2775000000</td>\n",
       "      <td>1876000000</td>\n",
       "      <td>3819000000</td>\n",
       "    </tr>\n",
       "    <tr>\n",
       "      <th>2</th>\n",
       "      <td>1422000000</td>\n",
       "      <td>2097000000</td>\n",
       "      <td>1828000000</td>\n",
       "      <td>5049000000</td>\n",
       "    </tr>\n",
       "  </tbody>\n",
       "</table>\n",
       "</div>"
      ],
      "text/plain": [
       "       BBM_10      BBM_15      BBM_20      BBM_25\n",
       "0  1726000000  2463000000  2296000000  4258000000\n",
       "1  1756000000  2775000000  1876000000  3819000000\n",
       "2  1422000000  2097000000  1828000000  5049000000"
      ]
     },
     "metadata": {},
     "output_type": "display_data"
    }
   ],
   "source": [
    "display(df2)"
   ]
  },
  {
   "cell_type": "code",
   "execution_count": 37,
   "id": "2ac2b418",
   "metadata": {},
   "outputs": [
    {
     "name": "stdout",
     "output_type": "stream",
     "text": [
      "[[2001000000, 1609000000, 1504000000], [3071000000, 1788000000, 5224000000], [1650000000, 1874000000, 1509000000], [2921000000, 3737000000, 2423000000]]\n"
     ]
    }
   ],
   "source": [
    "SBWW_10 = df1['SBWW_10'].values.tolist() #Putting each column from dataframe into lists\n",
    "SBWW_15 = df1['SBWW_15'].values.tolist() #Putting each column from dataframe into lists\n",
    "SBWW_20 = df1['SBWW_20'].values.tolist() #Putting each column from dataframe into lists\n",
    "SBWW_25 = df1['SBWW_25'].values.tolist() #Putting each column from dataframe into lists\n",
    "data1 = [SBWW_10, SBWW_15, SBWW_20, SBWW_25]\n",
    "print(data1)"
   ]
  },
  {
   "cell_type": "code",
   "execution_count": 38,
   "id": "75d6c5e3",
   "metadata": {},
   "outputs": [
    {
     "name": "stdout",
     "output_type": "stream",
     "text": [
      "[[1726000000, 1756000000, 1422000000], [2463000000, 2775000000, 2097000000], [2296000000, 1876000000, 1828000000], [4258000000, 3819000000, 5049000000]]\n"
     ]
    }
   ],
   "source": [
    "BBM_10 = df2['BBM_10'].values.tolist() #Putting each column from dataframe into lists\n",
    "BBM_15 = df2['BBM_15'].values.tolist() #Putting each column from dataframe into lists\n",
    "BBM_20 = df2['BBM_20'].values.tolist() #Putting each column from dataframe into lists\n",
    "BBM_25 = df2['BBM_25'].values.tolist() #Putting each column from dataframe into lists\n",
    "data2 = [BBM_10, BBM_15, BBM_20, BBM_25]\n",
    "print(data2)"
   ]
  },
  {
   "cell_type": "code",
   "execution_count": 39,
   "id": "ce051ef1",
   "metadata": {},
   "outputs": [
    {
     "data": {
      "text/plain": [
       "LeveneResult(statistic=1.9224103238567891, pvalue=0.20450453669099114)"
      ]
     },
     "execution_count": 39,
     "metadata": {},
     "output_type": "execute_result"
    }
   ],
   "source": [
    "stats.levene(SBWW_10, SBWW_15, SBWW_20, SBWW_25, center='median', proportiontocut=0.05)"
   ]
  },
  {
   "cell_type": "code",
   "execution_count": 40,
   "id": "35de2c29",
   "metadata": {},
   "outputs": [
    {
     "data": {
      "text/plain": [
       "LeveneResult(statistic=0.7495201570154548, pvalue=0.552557316227051)"
      ]
     },
     "execution_count": 40,
     "metadata": {},
     "output_type": "execute_result"
    }
   ],
   "source": [
    "stats.levene(BBM_10, BBM_15, BBM_20, BBM_25, center='median', proportiontocut=0.05)"
   ]
  },
  {
   "cell_type": "code",
   "execution_count": 41,
   "id": "6cf76406",
   "metadata": {},
   "outputs": [
    {
     "name": "stdout",
     "output_type": "stream",
     "text": [
      "ShapiroResult(statistic=0.8999643325805664, pvalue=0.38538697361946106) ShapiroResult(statistic=0.9790767431259155, pvalue=0.7227675318717957) ShapiroResult(statistic=0.9830556511878967, pvalue=0.7506838440895081) ShapiroResult(statistic=0.9808510541915894, pvalue=0.7348626255989075)\n"
     ]
    }
   ],
   "source": [
    "print(stats.shapiro(SBWW_10),\n",
    "stats.shapiro(SBWW_15),\n",
    "stats.shapiro(SBWW_20),\n",
    "stats.shapiro(SBWW_25))"
   ]
  },
  {
   "cell_type": "code",
   "execution_count": 42,
   "id": "b0f22c25",
   "metadata": {},
   "outputs": [
    {
     "name": "stdout",
     "output_type": "stream",
     "text": [
      "ShapiroResult(statistic=0.8167734742164612, pvalue=0.1552039533853531) ShapiroResult(statistic=0.9978899359703064, pvalue=0.9122374057769775) ShapiroResult(statistic=0.8260316848754883, pvalue=0.17828816175460815) ShapiroResult(statistic=0.9734259843826294, pvalue=0.6872667074203491)\n"
     ]
    }
   ],
   "source": [
    "print(stats.shapiro(BBM_10),\n",
    "stats.shapiro(BBM_15),\n",
    "stats.shapiro(BBM_20),\n",
    "stats.shapiro(BBM_25))"
   ]
  },
  {
   "cell_type": "markdown",
   "id": "9dfe0548",
   "metadata": {},
   "source": [
    "## Normality and equal variance\n",
    "\n",
    "Since in both the Shapiro-Wilks and Levene's test we do not have any significant difference there is evidence for normality and equal variance. therefore we proceed with a two-way ANOVA test."
   ]
  },
  {
   "cell_type": "markdown",
   "id": "0b01d064",
   "metadata": {},
   "source": [
    "# Preparations for the test \n",
    "\n",
    "Importing the proper format of the data must be done in order for the method to recognize the data. We also import the proper packages."
   ]
  },
  {
   "cell_type": "code",
   "execution_count": 43,
   "id": "0cd084c3",
   "metadata": {},
   "outputs": [],
   "source": [
    "import statsmodels.api as sm\n",
    "from statsmodels.formula.api import ols"
   ]
  },
  {
   "cell_type": "code",
   "execution_count": 44,
   "id": "1dd863c4",
   "metadata": {},
   "outputs": [
    {
     "data": {
      "text/html": [
       "<div>\n",
       "<style scoped>\n",
       "    .dataframe tbody tr th:only-of-type {\n",
       "        vertical-align: middle;\n",
       "    }\n",
       "\n",
       "    .dataframe tbody tr th {\n",
       "        vertical-align: top;\n",
       "    }\n",
       "\n",
       "    .dataframe thead th {\n",
       "        text-align: right;\n",
       "    }\n",
       "</style>\n",
       "<table border=\"1\" class=\"dataframe\">\n",
       "  <thead>\n",
       "    <tr style=\"text-align: right;\">\n",
       "      <th></th>\n",
       "      <th>media</th>\n",
       "      <th>temperature</th>\n",
       "      <th>biovolume</th>\n",
       "    </tr>\n",
       "  </thead>\n",
       "  <tbody>\n",
       "    <tr>\n",
       "      <th>0</th>\n",
       "      <td>BBM</td>\n",
       "      <td>10.0</td>\n",
       "      <td>1.726000e+09</td>\n",
       "    </tr>\n",
       "    <tr>\n",
       "      <th>1</th>\n",
       "      <td>BBM</td>\n",
       "      <td>10.0</td>\n",
       "      <td>1.756000e+09</td>\n",
       "    </tr>\n",
       "    <tr>\n",
       "      <th>2</th>\n",
       "      <td>BBM</td>\n",
       "      <td>10.0</td>\n",
       "      <td>1.422000e+09</td>\n",
       "    </tr>\n",
       "    <tr>\n",
       "      <th>3</th>\n",
       "      <td>BBM</td>\n",
       "      <td>15.0</td>\n",
       "      <td>2.463000e+09</td>\n",
       "    </tr>\n",
       "    <tr>\n",
       "      <th>4</th>\n",
       "      <td>BBM</td>\n",
       "      <td>15.0</td>\n",
       "      <td>2.775000e+09</td>\n",
       "    </tr>\n",
       "    <tr>\n",
       "      <th>5</th>\n",
       "      <td>BBM</td>\n",
       "      <td>15.0</td>\n",
       "      <td>2.097000e+09</td>\n",
       "    </tr>\n",
       "    <tr>\n",
       "      <th>6</th>\n",
       "      <td>BBM</td>\n",
       "      <td>20.0</td>\n",
       "      <td>2.296000e+09</td>\n",
       "    </tr>\n",
       "    <tr>\n",
       "      <th>7</th>\n",
       "      <td>BBM</td>\n",
       "      <td>20.0</td>\n",
       "      <td>1.876000e+09</td>\n",
       "    </tr>\n",
       "    <tr>\n",
       "      <th>8</th>\n",
       "      <td>BBM</td>\n",
       "      <td>20.0</td>\n",
       "      <td>1.828000e+09</td>\n",
       "    </tr>\n",
       "    <tr>\n",
       "      <th>9</th>\n",
       "      <td>BBM</td>\n",
       "      <td>25.0</td>\n",
       "      <td>4.258000e+09</td>\n",
       "    </tr>\n",
       "    <tr>\n",
       "      <th>10</th>\n",
       "      <td>BBM</td>\n",
       "      <td>25.0</td>\n",
       "      <td>3.819000e+09</td>\n",
       "    </tr>\n",
       "    <tr>\n",
       "      <th>11</th>\n",
       "      <td>BBM</td>\n",
       "      <td>25.0</td>\n",
       "      <td>5.049000e+09</td>\n",
       "    </tr>\n",
       "    <tr>\n",
       "      <th>12</th>\n",
       "      <td>SBWW</td>\n",
       "      <td>10.0</td>\n",
       "      <td>2.001000e+09</td>\n",
       "    </tr>\n",
       "    <tr>\n",
       "      <th>13</th>\n",
       "      <td>SBWW</td>\n",
       "      <td>10.0</td>\n",
       "      <td>1.609000e+09</td>\n",
       "    </tr>\n",
       "    <tr>\n",
       "      <th>14</th>\n",
       "      <td>SBWW</td>\n",
       "      <td>10.0</td>\n",
       "      <td>1.504000e+09</td>\n",
       "    </tr>\n",
       "    <tr>\n",
       "      <th>15</th>\n",
       "      <td>SBWW</td>\n",
       "      <td>15.0</td>\n",
       "      <td>3.071000e+09</td>\n",
       "    </tr>\n",
       "    <tr>\n",
       "      <th>16</th>\n",
       "      <td>SBWW</td>\n",
       "      <td>15.0</td>\n",
       "      <td>1.788000e+09</td>\n",
       "    </tr>\n",
       "    <tr>\n",
       "      <th>17</th>\n",
       "      <td>SBWW</td>\n",
       "      <td>15.0</td>\n",
       "      <td>5.224000e+09</td>\n",
       "    </tr>\n",
       "    <tr>\n",
       "      <th>18</th>\n",
       "      <td>SBWW</td>\n",
       "      <td>20.0</td>\n",
       "      <td>1.650000e+09</td>\n",
       "    </tr>\n",
       "    <tr>\n",
       "      <th>19</th>\n",
       "      <td>SBWW</td>\n",
       "      <td>20.0</td>\n",
       "      <td>1.874000e+09</td>\n",
       "    </tr>\n",
       "    <tr>\n",
       "      <th>20</th>\n",
       "      <td>SBWW</td>\n",
       "      <td>20.0</td>\n",
       "      <td>1.509000e+09</td>\n",
       "    </tr>\n",
       "    <tr>\n",
       "      <th>21</th>\n",
       "      <td>SBWW</td>\n",
       "      <td>25.0</td>\n",
       "      <td>2.921000e+09</td>\n",
       "    </tr>\n",
       "    <tr>\n",
       "      <th>22</th>\n",
       "      <td>SBWW</td>\n",
       "      <td>25.0</td>\n",
       "      <td>3.737000e+09</td>\n",
       "    </tr>\n",
       "    <tr>\n",
       "      <th>23</th>\n",
       "      <td>SBWW</td>\n",
       "      <td>25.0</td>\n",
       "      <td>2.423000e+09</td>\n",
       "    </tr>\n",
       "    <tr>\n",
       "      <th>24</th>\n",
       "      <td>SBWW</td>\n",
       "      <td>NaN</td>\n",
       "      <td>NaN</td>\n",
       "    </tr>\n",
       "  </tbody>\n",
       "</table>\n",
       "</div>"
      ],
      "text/plain": [
       "   media  temperature     biovolume\n",
       "0    BBM         10.0  1.726000e+09\n",
       "1    BBM         10.0  1.756000e+09\n",
       "2    BBM         10.0  1.422000e+09\n",
       "3    BBM         15.0  2.463000e+09\n",
       "4    BBM         15.0  2.775000e+09\n",
       "5    BBM         15.0  2.097000e+09\n",
       "6    BBM         20.0  2.296000e+09\n",
       "7    BBM         20.0  1.876000e+09\n",
       "8    BBM         20.0  1.828000e+09\n",
       "9    BBM         25.0  4.258000e+09\n",
       "10   BBM         25.0  3.819000e+09\n",
       "11   BBM         25.0  5.049000e+09\n",
       "12  SBWW         10.0  2.001000e+09\n",
       "13  SBWW         10.0  1.609000e+09\n",
       "14  SBWW         10.0  1.504000e+09\n",
       "15  SBWW         15.0  3.071000e+09\n",
       "16  SBWW         15.0  1.788000e+09\n",
       "17  SBWW         15.0  5.224000e+09\n",
       "18  SBWW         20.0  1.650000e+09\n",
       "19  SBWW         20.0  1.874000e+09\n",
       "20  SBWW         20.0  1.509000e+09\n",
       "21  SBWW         25.0  2.921000e+09\n",
       "22  SBWW         25.0  3.737000e+09\n",
       "23  SBWW         25.0  2.423000e+09\n",
       "24  SBWW          NaN           NaN"
      ]
     },
     "metadata": {},
     "output_type": "display_data"
    }
   ],
   "source": [
    "df3 = pd.read_excel('biovolume_BBM_SBWW.xlsx')\n",
    "display(df3)"
   ]
  },
  {
   "cell_type": "code",
   "execution_count": null,
   "id": "669a08ee",
   "metadata": {},
   "outputs": [],
   "source": []
  },
  {
   "cell_type": "code",
   "execution_count": 45,
   "id": "4348ed3f",
   "metadata": {},
   "outputs": [
    {
     "data": {
      "text/html": [
       "<div>\n",
       "<style scoped>\n",
       "    .dataframe tbody tr th:only-of-type {\n",
       "        vertical-align: middle;\n",
       "    }\n",
       "\n",
       "    .dataframe tbody tr th {\n",
       "        vertical-align: top;\n",
       "    }\n",
       "\n",
       "    .dataframe thead th {\n",
       "        text-align: right;\n",
       "    }\n",
       "</style>\n",
       "<table border=\"1\" class=\"dataframe\">\n",
       "  <thead>\n",
       "    <tr style=\"text-align: right;\">\n",
       "      <th></th>\n",
       "      <th>sum_sq</th>\n",
       "      <th>df</th>\n",
       "      <th>F</th>\n",
       "      <th>PR(&gt;F)</th>\n",
       "    </tr>\n",
       "  </thead>\n",
       "  <tbody>\n",
       "    <tr>\n",
       "      <th>C(media)</th>\n",
       "      <td>1.757882e+17</td>\n",
       "      <td>1.0</td>\n",
       "      <td>0.337947</td>\n",
       "      <td>0.569117</td>\n",
       "    </tr>\n",
       "    <tr>\n",
       "      <th>C(temperature)</th>\n",
       "      <td>1.637179e+19</td>\n",
       "      <td>3.0</td>\n",
       "      <td>10.491410</td>\n",
       "      <td>0.000465</td>\n",
       "    </tr>\n",
       "    <tr>\n",
       "      <th>C(media):C(temperature)</th>\n",
       "      <td>3.972998e+18</td>\n",
       "      <td>3.0</td>\n",
       "      <td>2.545986</td>\n",
       "      <td>0.092540</td>\n",
       "    </tr>\n",
       "    <tr>\n",
       "      <th>Residual</th>\n",
       "      <td>8.322639e+18</td>\n",
       "      <td>16.0</td>\n",
       "      <td>NaN</td>\n",
       "      <td>NaN</td>\n",
       "    </tr>\n",
       "  </tbody>\n",
       "</table>\n",
       "</div>"
      ],
      "text/plain": [
       "                               sum_sq    df          F    PR(>F)\n",
       "C(media)                 1.757882e+17   1.0   0.337947  0.569117\n",
       "C(temperature)           1.637179e+19   3.0  10.491410  0.000465\n",
       "C(media):C(temperature)  3.972998e+18   3.0   2.545986  0.092540\n",
       "Residual                 8.322639e+18  16.0        NaN       NaN"
      ]
     },
     "execution_count": 45,
     "metadata": {},
     "output_type": "execute_result"
    }
   ],
   "source": [
    "model = ols('biovolume ~ C(media) + C(temperature) + C(media):C(temperature)', data=df3).fit()\n",
    "sm.stats.anova_lm(model, typ=2)"
   ]
  }
 ],
 "metadata": {
  "kernelspec": {
   "display_name": "Python 3 (ipykernel)",
   "language": "python",
   "name": "python3"
  },
  "language_info": {
   "codemirror_mode": {
    "name": "ipython",
    "version": 3
   },
   "file_extension": ".py",
   "mimetype": "text/x-python",
   "name": "python",
   "nbconvert_exporter": "python",
   "pygments_lexer": "ipython3",
   "version": "3.9.7"
  }
 },
 "nbformat": 4,
 "nbformat_minor": 5
}

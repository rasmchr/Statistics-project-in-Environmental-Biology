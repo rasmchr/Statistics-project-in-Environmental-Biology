{
 "cells": [
  {
   "cell_type": "code",
   "execution_count": 25,
   "id": "8f10d7c2",
   "metadata": {},
   "outputs": [],
   "source": [
    "import numpy as np\n",
    "import math\n",
    "from scipy import stats\n",
    "import pandas as pd\n",
    "import statistics as st\n",
    "import scikit_posthocs as sp"
   ]
  },
  {
   "cell_type": "markdown",
   "id": "55e00fe2",
   "metadata": {},
   "source": [
    "# Statistical analysis of TOC removal\n",
    "\n",
    "First we import all relevant libraries. Then import our TOC removal data (TOC_removal.xlsx) the dataframe is displayed below. \n",
    "\n",
    "Since we have multiple groups with one independent variable (temperature) and want to compare them we do an one-way ANOVA like statistical analysis. Therefore before we do so we need to check if we violate the assumptions for doing the one-way ANOVA analysis. Assumptions are normality and equal variance. The analysis for determining if these assumptions hold are Shapiro-wilks and Levene's test respectivly. "
   ]
  },
  {
   "cell_type": "code",
   "execution_count": 26,
   "id": "180fa93b",
   "metadata": {},
   "outputs": [
    {
     "data": {
      "text/html": [
       "<div>\n",
       "<style scoped>\n",
       "    .dataframe tbody tr th:only-of-type {\n",
       "        vertical-align: middle;\n",
       "    }\n",
       "\n",
       "    .dataframe tbody tr th {\n",
       "        vertical-align: top;\n",
       "    }\n",
       "\n",
       "    .dataframe thead th {\n",
       "        text-align: right;\n",
       "    }\n",
       "</style>\n",
       "<table border=\"1\" class=\"dataframe\">\n",
       "  <thead>\n",
       "    <tr style=\"text-align: right;\">\n",
       "      <th></th>\n",
       "      <th>SBWW_10</th>\n",
       "      <th>SBWW_15</th>\n",
       "      <th>SBWW_20</th>\n",
       "      <th>SBWW_25</th>\n",
       "    </tr>\n",
       "  </thead>\n",
       "  <tbody>\n",
       "    <tr>\n",
       "      <th>0</th>\n",
       "      <td>1167.2</td>\n",
       "      <td>1374.30</td>\n",
       "      <td>1253.6</td>\n",
       "      <td>1300.6</td>\n",
       "    </tr>\n",
       "    <tr>\n",
       "      <th>1</th>\n",
       "      <td>1269.4</td>\n",
       "      <td>1370.94</td>\n",
       "      <td>1254.4</td>\n",
       "      <td>1276.4</td>\n",
       "    </tr>\n",
       "    <tr>\n",
       "      <th>2</th>\n",
       "      <td>1270.6</td>\n",
       "      <td>1397.02</td>\n",
       "      <td>1221.2</td>\n",
       "      <td>1328.2</td>\n",
       "    </tr>\n",
       "  </tbody>\n",
       "</table>\n",
       "</div>"
      ],
      "text/plain": [
       "   SBWW_10  SBWW_15  SBWW_20  SBWW_25\n",
       "0   1167.2  1374.30   1253.6   1300.6\n",
       "1   1269.4  1370.94   1254.4   1276.4\n",
       "2   1270.6  1397.02   1221.2   1328.2"
      ]
     },
     "metadata": {},
     "output_type": "display_data"
    }
   ],
   "source": [
    "df1 = pd.read_excel('TOC_removal.xlsx')\n",
    "display(df1) #Making dataframe from excel file"
   ]
  },
  {
   "cell_type": "code",
   "execution_count": 27,
   "id": "51c37765",
   "metadata": {
    "scrolled": true
   },
   "outputs": [],
   "source": [
    "SBWW_10 = df1['SBWW_10'].values.tolist() #Putting each column from dataframe into lists\n",
    "SBWW_15 = df1['SBWW_15'].values.tolist() #Putting each column from dataframe into lists\n",
    "SBWW_20 = df1['SBWW_20'].values.tolist() #Putting each column from dataframe into lists\n",
    "SBWW_25 = df1['SBWW_25'].values.tolist() #Putting each column from dataframe into lists\n",
    "data = [SBWW_10, SBWW_15, SBWW_20, SBWW_25]"
   ]
  },
  {
   "cell_type": "code",
   "execution_count": 28,
   "id": "2914f43f",
   "metadata": {},
   "outputs": [
    {
     "data": {
      "text/plain": [
       "LeveneResult(statistic=0.390721736461269, pvalue=0.7630699924093591)"
      ]
     },
     "execution_count": 28,
     "metadata": {},
     "output_type": "execute_result"
    }
   ],
   "source": [
    "stats.levene(SBWW_10, SBWW_15, SBWW_20, SBWW_25, center='median', proportiontocut=0.05)"
   ]
  },
  {
   "cell_type": "code",
   "execution_count": 29,
   "id": "c79e943f",
   "metadata": {},
   "outputs": [
    {
     "name": "stdout",
     "output_type": "stream",
     "text": [
      "ShapiroResult(statistic=0.75870281457901, pvalue=0.01930529810488224) ShapiroResult(statistic=0.844821572303772, pvalue=0.2266968935728073) ShapiroResult(statistic=0.7680623531341553, pvalue=0.04033590108156204) ShapiroResult(statistic=0.9985658526420593, pvalue=0.9276542663574219)\n"
     ]
    }
   ],
   "source": [
    "print(stats.shapiro(SBWW_10),\n",
    "stats.shapiro(SBWW_15),\n",
    "stats.shapiro(SBWW_20),\n",
    "stats.shapiro(SBWW_25))"
   ]
  },
  {
   "cell_type": "markdown",
   "id": "dd16c7b6",
   "metadata": {},
   "source": [
    "# Normality and equal variance\n",
    "\n",
    "Since in the Levene's test we do not have any significant difference there is evidence for equal variance, therefore we proceed with a one-way ANOVA test. Since only 2 out 4 violate the normality requirement we still move forward with the one-way ANOVA."
   ]
  },
  {
   "cell_type": "code",
   "execution_count": 30,
   "id": "71a3c69b",
   "metadata": {},
   "outputs": [
    {
     "data": {
      "text/plain": [
       "F_onewayResult(statistic=11.374649420621454, pvalue=0.0029477328670775007)"
      ]
     },
     "execution_count": 30,
     "metadata": {},
     "output_type": "execute_result"
    }
   ],
   "source": [
    "stats.f_oneway(SBWW_10, SBWW_15, SBWW_20, SBWW_25)"
   ]
  },
  {
   "cell_type": "markdown",
   "id": "44ba2dba",
   "metadata": {},
   "source": [
    "# Since p<0.05 we have evidence for significant difference between TOC removal at the different temperatures\n",
    "\n",
    "After doing our one-way ANOVA we can see that with a p-value of approx. 0.0029 there is evidence for not accepting $H_0$ - being that the TOC removal at temperatures 10, 15, 20, and 25 are not significantly different from each other. So therefore we proceed with a post hoc analysis."
   ]
  },
  {
   "cell_type": "code",
   "execution_count": 32,
   "id": "5cfcd9ff",
   "metadata": {},
   "outputs": [
    {
     "name": "stdout",
     "output_type": "stream",
     "text": [
      " Multiple Comparison of Means - Tukey HSD, FWER=0.05  \n",
      "======================================================\n",
      " group1  group2 meandiff p-adj   lower   upper  reject\n",
      "------------------------------------------------------\n",
      "SBWW_10 SBWW_15   0.0929 0.0039  0.0351  0.1507   True\n",
      "SBWW_10 SBWW_20   0.0047    0.9 -0.0531  0.0625  False\n",
      "SBWW_10 SBWW_25   0.0423 0.1668 -0.0155     0.1  False\n",
      "SBWW_15 SBWW_20  -0.0882 0.0053  -0.146 -0.0304   True\n",
      "SBWW_15 SBWW_25  -0.0506 0.0874 -0.1084  0.0071  False\n",
      "SBWW_20 SBWW_25   0.0376 0.2367 -0.0202  0.0953  False\n",
      "------------------------------------------------------\n"
     ]
    }
   ],
   "source": [
    "from statsmodels.stats.multicomp import pairwise_tukeyhsd\n",
    "\n",
    "df2 = pd.DataFrame({'score': [0.747726, 0.813197, 0.813965,\n",
    "                                0.880397, 0.878245, 0.894952,\n",
    "                               0.803075, 0.803587, 0.782319,\n",
    "                               0.833184, 0.817681, 0.850865],\n",
    "               'group': np.repeat(['SBWW_10', 'SBWW_15', 'SBWW_20', 'SBWW_25'], repeats=3)})\n",
    "    \n",
    "\n",
    "tukey = pairwise_tukeyhsd(endog=df2['score'],\n",
    "                          groups=df2['group'],\n",
    "                          alpha=0.05)\n",
    "\n",
    "print(tukey)"
   ]
  },
  {
   "cell_type": "code",
   "execution_count": null,
   "id": "0080c8d3",
   "metadata": {},
   "outputs": [],
   "source": []
  },
  {
   "cell_type": "code",
   "execution_count": null,
   "id": "1f1e5b57",
   "metadata": {},
   "outputs": [],
   "source": []
  }
 ],
 "metadata": {
  "kernelspec": {
   "display_name": "Python 3 (ipykernel)",
   "language": "python",
   "name": "python3"
  },
  "language_info": {
   "codemirror_mode": {
    "name": "ipython",
    "version": 3
   },
   "file_extension": ".py",
   "mimetype": "text/x-python",
   "name": "python",
   "nbconvert_exporter": "python",
   "pygments_lexer": "ipython3",
   "version": "3.9.7"
  }
 },
 "nbformat": 4,
 "nbformat_minor": 5
}

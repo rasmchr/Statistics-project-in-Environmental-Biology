{
 "cells": [
  {
   "cell_type": "markdown",
   "id": "85ea17f9",
   "metadata": {},
   "source": [
    "# Statistical analysis of biovolume BBM\n",
    "\n",
    "First we import all relevant libraries. Then import our biovolume data (biovolume_SBWW.xlsx) the dataframe is displayed below. \n",
    "\n",
    "Since we have multiple groups with one independent variable (temperature) and want to compare them we do an one-way ANOVA for statistical analysis. Therefore before we do so we need to check if we violate the assumptions for doing the one-way ANOVA analysis. Assumptions are normality and equal variance. The analysis for determining if these assumptions hold are Shapiro-wilks and Levene's test respectivly. "
   ]
  },
  {
   "cell_type": "code",
   "execution_count": 11,
   "id": "710a4ef7",
   "metadata": {},
   "outputs": [],
   "source": [
    "import numpy as np\n",
    "from scipy import stats\n",
    "import pandas as pd\n",
    "import scikit_posthocs as sp"
   ]
  },
  {
   "cell_type": "code",
   "execution_count": 2,
   "id": "d0b3fe3d",
   "metadata": {},
   "outputs": [
    {
     "data": {
      "text/html": [
       "<div>\n",
       "<style scoped>\n",
       "    .dataframe tbody tr th:only-of-type {\n",
       "        vertical-align: middle;\n",
       "    }\n",
       "\n",
       "    .dataframe tbody tr th {\n",
       "        vertical-align: top;\n",
       "    }\n",
       "\n",
       "    .dataframe thead th {\n",
       "        text-align: right;\n",
       "    }\n",
       "</style>\n",
       "<table border=\"1\" class=\"dataframe\">\n",
       "  <thead>\n",
       "    <tr style=\"text-align: right;\">\n",
       "      <th></th>\n",
       "      <th>BBM_10</th>\n",
       "      <th>BBM_15</th>\n",
       "      <th>BBM_20</th>\n",
       "      <th>BBM_25</th>\n",
       "    </tr>\n",
       "  </thead>\n",
       "  <tbody>\n",
       "    <tr>\n",
       "      <th>0</th>\n",
       "      <td>1726000000</td>\n",
       "      <td>2463000000</td>\n",
       "      <td>2296000000</td>\n",
       "      <td>4258000000</td>\n",
       "    </tr>\n",
       "    <tr>\n",
       "      <th>1</th>\n",
       "      <td>1756000000</td>\n",
       "      <td>2775000000</td>\n",
       "      <td>1876000000</td>\n",
       "      <td>3819000000</td>\n",
       "    </tr>\n",
       "    <tr>\n",
       "      <th>2</th>\n",
       "      <td>1422000000</td>\n",
       "      <td>2097000000</td>\n",
       "      <td>1828000000</td>\n",
       "      <td>5049000000</td>\n",
       "    </tr>\n",
       "  </tbody>\n",
       "</table>\n",
       "</div>"
      ],
      "text/plain": [
       "       BBM_10      BBM_15      BBM_20      BBM_25\n",
       "0  1726000000  2463000000  2296000000  4258000000\n",
       "1  1756000000  2775000000  1876000000  3819000000\n",
       "2  1422000000  2097000000  1828000000  5049000000"
      ]
     },
     "metadata": {},
     "output_type": "display_data"
    }
   ],
   "source": [
    "df1 = pd.read_excel('biovolume_BBM.xlsx')\n",
    "display(df1) #Making dataframe from excel file"
   ]
  },
  {
   "cell_type": "code",
   "execution_count": 3,
   "id": "ed817b8b",
   "metadata": {},
   "outputs": [
    {
     "name": "stdout",
     "output_type": "stream",
     "text": [
      "[[1726000000, 1756000000, 1422000000], [2463000000, 2775000000, 2097000000], [2296000000, 1876000000, 1828000000], [4258000000, 3819000000, 5049000000]]\n"
     ]
    }
   ],
   "source": [
    "BBM_10 = df1['BBM_10'].values.tolist() #Putting each column from dataframe into lists\n",
    "BBM_15 = df1['BBM_15'].values.tolist() #Putting each column from dataframe into lists\n",
    "BBM_20 = df1['BBM_20'].values.tolist() #Putting each column from dataframe into lists\n",
    "BBM_25 = df1['BBM_25'].values.tolist() #Putting each column from dataframe into lists\n",
    "data = [BBM_10, BBM_15, BBM_20, BBM_25]\n",
    "print(data)"
   ]
  },
  {
   "cell_type": "code",
   "execution_count": 4,
   "id": "c7e3122b",
   "metadata": {},
   "outputs": [
    {
     "data": {
      "text/plain": [
       "LeveneResult(statistic=0.7495201570154548, pvalue=0.552557316227051)"
      ]
     },
     "execution_count": 4,
     "metadata": {},
     "output_type": "execute_result"
    }
   ],
   "source": [
    "stats.levene(BBM_10, BBM_15, BBM_20, BBM_25, center='median', proportiontocut=0.05)"
   ]
  },
  {
   "cell_type": "code",
   "execution_count": 5,
   "id": "141d6d50",
   "metadata": {},
   "outputs": [
    {
     "name": "stdout",
     "output_type": "stream",
     "text": [
      "ShapiroResult(statistic=0.8167734742164612, pvalue=0.1552039533853531) ShapiroResult(statistic=0.9978899359703064, pvalue=0.9122374057769775) ShapiroResult(statistic=0.8260316848754883, pvalue=0.17828816175460815) ShapiroResult(statistic=0.9734259843826294, pvalue=0.6872667074203491)\n"
     ]
    }
   ],
   "source": [
    "print(stats.shapiro(BBM_10),\n",
    "stats.shapiro(BBM_15),\n",
    "stats.shapiro(BBM_20),\n",
    "stats.shapiro(BBM_25))"
   ]
  },
  {
   "cell_type": "code",
   "execution_count": 6,
   "id": "74a40bed",
   "metadata": {},
   "outputs": [
    {
     "data": {
      "text/plain": [
       "F_onewayResult(statistic=29.575190870370392, pvalue=0.00011128041304519821)"
      ]
     },
     "execution_count": 6,
     "metadata": {},
     "output_type": "execute_result"
    }
   ],
   "source": [
    "stats.f_oneway(BBM_10, BBM_15, BBM_20, BBM_25)"
   ]
  },
  {
   "cell_type": "code",
   "execution_count": 7,
   "id": "1c3c4184",
   "metadata": {},
   "outputs": [],
   "source": [
    "from statsmodels.stats.multicomp import pairwise_tukeyhsd"
   ]
  },
  {
   "cell_type": "code",
   "execution_count": 8,
   "id": "076ffd15",
   "metadata": {},
   "outputs": [],
   "source": [
    "df2 = pd.DataFrame({'score': [1726000000, 1756000000, 1422000000,\n",
    "                                2463000000, 2775000000, 2097000000,\n",
    "                               2296000000, 1876000000, 1828000000,\n",
    "                               4258000000, 3819000000, 5049000000],\n",
    "               'group': np.repeat(['BBM_10', 'BBM_15', 'BBM_20', 'BBM_25'], repeats=3)})\n",
    "    \n",
    "    "
   ]
  },
  {
   "cell_type": "code",
   "execution_count": 9,
   "id": "f09bfc20",
   "metadata": {},
   "outputs": [],
   "source": [
    "tukey = pairwise_tukeyhsd(endog=df2['score'],\n",
    "                          groups=df2['group'],\n",
    "                          alpha=0.05)\n"
   ]
  },
  {
   "cell_type": "code",
   "execution_count": 10,
   "id": "d14cc184",
   "metadata": {},
   "outputs": [
    {
     "name": "stdout",
     "output_type": "stream",
     "text": [
      "            Multiple Comparison of Means - Tukey HSD, FWER=0.05             \n",
      "============================================================================\n",
      "group1 group2     meandiff    p-adj       lower            upper      reject\n",
      "----------------------------------------------------------------------------\n",
      "BBM_10 BBM_15  810333333.3333 0.1248  -205937337.4528 1826604004.1195  False\n",
      "BBM_10 BBM_20  365333333.3333 0.6588  -650937337.4528 1381604004.1195  False\n",
      "BBM_10 BBM_25 2740666666.6667  0.001  1724395995.8805 3756937337.4528   True\n",
      "BBM_15 BBM_20    -445000000.0 0.5303 -1461270670.7861  571270670.7861  False\n",
      "BBM_15 BBM_25 1930333333.3333 0.0013   914062662.5472 2946604004.1195   True\n",
      "BBM_20 BBM_25 2375333333.3333  0.001  1359062662.5472 3391604004.1195   True\n",
      "----------------------------------------------------------------------------\n"
     ]
    }
   ],
   "source": [
    "print(tukey)"
   ]
  },
  {
   "cell_type": "code",
   "execution_count": null,
   "id": "50fcec91",
   "metadata": {},
   "outputs": [],
   "source": []
  }
 ],
 "metadata": {
  "kernelspec": {
   "display_name": "Python 3 (ipykernel)",
   "language": "python",
   "name": "python3"
  },
  "language_info": {
   "codemirror_mode": {
    "name": "ipython",
    "version": 3
   },
   "file_extension": ".py",
   "mimetype": "text/x-python",
   "name": "python",
   "nbconvert_exporter": "python",
   "pygments_lexer": "ipython3",
   "version": "3.9.7"
  }
 },
 "nbformat": 4,
 "nbformat_minor": 5
}

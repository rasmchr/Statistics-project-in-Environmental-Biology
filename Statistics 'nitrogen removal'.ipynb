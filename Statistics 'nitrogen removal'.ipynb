{
 "cells": [
  {
   "cell_type": "code",
   "execution_count": 13,
   "id": "ac34eced",
   "metadata": {},
   "outputs": [],
   "source": [
    "import numpy as np\n",
    "from scipy import stats\n",
    "import pandas as pd\n",
    "import scikit_posthocs as sp"
   ]
  },
  {
   "cell_type": "markdown",
   "id": "b3dbf341",
   "metadata": {},
   "source": [
    "# Statistical analysis of nitrogen removal\n",
    "\n",
    "First we import all relevant libraries. Then import our nitrogen removal data (Nitrogen_removal.xlsx) the dataframe is displayed below. \n",
    "\n",
    "Since we have multiple groups with one independent variable (temperature) and want to compare them we do an one-way ANOVA like statistical analysis. Therefore before we do so we need to check if we violate the assumptions for doing the one-way ANOVA analysis. Assumptions are normality and equal variance. The analysis for determining if these assumptions hold are Shapiro-wilks and Levene's test respectivly. "
   ]
  },
  {
   "cell_type": "code",
   "execution_count": 14,
   "id": "cde78c03",
   "metadata": {},
   "outputs": [
    {
     "data": {
      "text/html": [
       "<div>\n",
       "<style scoped>\n",
       "    .dataframe tbody tr th:only-of-type {\n",
       "        vertical-align: middle;\n",
       "    }\n",
       "\n",
       "    .dataframe tbody tr th {\n",
       "        vertical-align: top;\n",
       "    }\n",
       "\n",
       "    .dataframe thead th {\n",
       "        text-align: right;\n",
       "    }\n",
       "</style>\n",
       "<table border=\"1\" class=\"dataframe\">\n",
       "  <thead>\n",
       "    <tr style=\"text-align: right;\">\n",
       "      <th></th>\n",
       "      <th>SBWW_10</th>\n",
       "      <th>SBWW_15</th>\n",
       "      <th>SBWW_20</th>\n",
       "      <th>SBWW_25</th>\n",
       "    </tr>\n",
       "  </thead>\n",
       "  <tbody>\n",
       "    <tr>\n",
       "      <th>0</th>\n",
       "      <td>66.16</td>\n",
       "      <td>76.560</td>\n",
       "      <td>68.78</td>\n",
       "      <td>62.24</td>\n",
       "    </tr>\n",
       "    <tr>\n",
       "      <th>1</th>\n",
       "      <td>66.98</td>\n",
       "      <td>74.940</td>\n",
       "      <td>71.12</td>\n",
       "      <td>65.66</td>\n",
       "    </tr>\n",
       "    <tr>\n",
       "      <th>2</th>\n",
       "      <td>63.54</td>\n",
       "      <td>80.978</td>\n",
       "      <td>66.56</td>\n",
       "      <td>71.22</td>\n",
       "    </tr>\n",
       "  </tbody>\n",
       "</table>\n",
       "</div>"
      ],
      "text/plain": [
       "   SBWW_10  SBWW_15  SBWW_20  SBWW_25\n",
       "0    66.16   76.560    68.78    62.24\n",
       "1    66.98   74.940    71.12    65.66\n",
       "2    63.54   80.978    66.56    71.22"
      ]
     },
     "metadata": {},
     "output_type": "display_data"
    }
   ],
   "source": [
    "df1 = pd.read_excel('Nitrogen_removal.xlsx')\n",
    "display(df1) #Making dataframe from excel file"
   ]
  },
  {
   "cell_type": "code",
   "execution_count": 15,
   "id": "3afe0587",
   "metadata": {},
   "outputs": [],
   "source": [
    "SBWW_10 = df1['SBWW_10'].values.tolist() #Putting each column from dataframe into lists\n",
    "SBWW_15 = df1['SBWW_15'].values.tolist() #Putting each column from dataframe into lists\n",
    "SBWW_20 = df1['SBWW_20'].values.tolist() #Putting each column from dataframe into lists\n",
    "SBWW_25 = df1['SBWW_25'].values.tolist() #Putting each column from dataframe into lists\n",
    "data = [SBWW_10, SBWW_15, SBWW_20, SBWW_25]"
   ]
  },
  {
   "cell_type": "code",
   "execution_count": 16,
   "id": "ce3df0c7",
   "metadata": {},
   "outputs": [
    {
     "name": "stdout",
     "output_type": "stream",
     "text": [
      "[[66.16, 66.98, 63.54], [76.56, 74.94, 80.97800000000001], [68.78, 71.12, 66.56], [62.24, 65.66, 71.22]]\n"
     ]
    }
   ],
   "source": [
    "print(data)"
   ]
  },
  {
   "cell_type": "code",
   "execution_count": 17,
   "id": "9eb4e5f6",
   "metadata": {},
   "outputs": [
    {
     "data": {
      "text/plain": [
       "LeveneResult(statistic=0.4681723586141781, pvalue=0.7126236139315524)"
      ]
     },
     "execution_count": 17,
     "metadata": {},
     "output_type": "execute_result"
    }
   ],
   "source": [
    "stats.levene(SBWW_10, SBWW_15, SBWW_20, SBWW_25, center='median', proportiontocut=0.05)"
   ]
  },
  {
   "cell_type": "code",
   "execution_count": 18,
   "id": "8f505004",
   "metadata": {},
   "outputs": [
    {
     "name": "stdout",
     "output_type": "stream",
     "text": [
      "ShapiroResult(statistic=0.9163665771484375, pvalue=0.439674437046051) ShapiroResult(statistic=0.9332016110420227, pvalue=0.5007210969924927) ShapiroResult(statistic=0.9997692704200745, pvalue=0.9709845185279846) ShapiroResult(statistic=0.981421709060669, pvalue=0.7388676404953003)\n"
     ]
    }
   ],
   "source": [
    "print(stats.shapiro(SBWW_10),\n",
    "stats.shapiro(SBWW_15),\n",
    "stats.shapiro(SBWW_20),\n",
    "stats.shapiro(SBWW_25))"
   ]
  },
  {
   "cell_type": "markdown",
   "id": "09f70264",
   "metadata": {},
   "source": [
    "# Normality and equal variance\n",
    "\n",
    "Since in both the Shapiro-Wilks and Levene's test we do not have any significant difference there is evidence for normality and equal variance. therefore we proceed with a one-way ANOVA test."
   ]
  },
  {
   "cell_type": "code",
   "execution_count": 19,
   "id": "1b3eb758",
   "metadata": {},
   "outputs": [
    {
     "data": {
      "text/plain": [
       "F_onewayResult(statistic=9.255317153517922, pvalue=0.005580374910646481)"
      ]
     },
     "execution_count": 19,
     "metadata": {},
     "output_type": "execute_result"
    }
   ],
   "source": [
    "stats.f_oneway(SBWW_10, SBWW_15, SBWW_20, SBWW_25)"
   ]
  },
  {
   "cell_type": "markdown",
   "id": "736ed049",
   "metadata": {},
   "source": [
    "# Since p<0.05 we have evidence for significant difference between nitrogen removal\n",
    "\n",
    "After doing our one-way ANOVA we can see that with a p-value of approx. 0.005 there is evidence for not accepting $H_0$ - being that the nitrogen removal at temperatures 10, 15, 20, and 25 are not significantly different from each other. So we proceed with a Post Hoc test."
   ]
  },
  {
   "cell_type": "code",
   "execution_count": 20,
   "id": "0c97044c",
   "metadata": {},
   "outputs": [
    {
     "name": "stdout",
     "output_type": "stream",
     "text": [
      "  Multiple Comparison of Means - Tukey HSD, FWER=0.05  \n",
      "=======================================================\n",
      " group1  group2 meandiff p-adj   lower    upper  reject\n",
      "-------------------------------------------------------\n",
      "SBWW_10 SBWW_15  11.9327 0.0067    3.795 20.0703   True\n",
      "SBWW_10 SBWW_20     3.26 0.5914  -4.8776 11.3976  False\n",
      "SBWW_10 SBWW_25   0.8133    0.9  -7.3243   8.951  False\n",
      "SBWW_15 SBWW_20  -8.6727 0.0372 -16.8103  -0.535   True\n",
      "SBWW_15 SBWW_25 -11.1193 0.0101  -19.257 -2.9817   True\n",
      "SBWW_20 SBWW_25  -2.4467 0.7551 -10.5843   5.691  False\n",
      "-------------------------------------------------------\n"
     ]
    }
   ],
   "source": [
    "from statsmodels.stats.multicomp import pairwise_tukeyhsd\n",
    "\n",
    "df2 = pd.DataFrame({'score': [66.16, 66.98, 63.54,\n",
    "                                76.560, 74.940, 80.978,\n",
    "                               68.78, 71.12, 66.56,\n",
    "                               62.24, 65.66, 71.22],\n",
    "               'group': np.repeat(['SBWW_10', 'SBWW_15', 'SBWW_20', 'SBWW_25'], repeats=3)})\n",
    "    \n",
    "\n",
    "tukey = pairwise_tukeyhsd(endog=df2['score'],\n",
    "                          groups=df2['group'],\n",
    "                          alpha=0.05)\n",
    "\n",
    "print(tukey)"
   ]
  }
 ],
 "metadata": {
  "kernelspec": {
   "display_name": "Python 3 (ipykernel)",
   "language": "python",
   "name": "python3"
  },
  "language_info": {
   "codemirror_mode": {
    "name": "ipython",
    "version": 3
   },
   "file_extension": ".py",
   "mimetype": "text/x-python",
   "name": "python",
   "nbconvert_exporter": "python",
   "pygments_lexer": "ipython3",
   "version": "3.9.7"
  }
 },
 "nbformat": 4,
 "nbformat_minor": 5
}

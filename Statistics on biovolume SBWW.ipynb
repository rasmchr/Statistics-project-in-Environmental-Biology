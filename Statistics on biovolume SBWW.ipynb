{
 "cells": [
  {
   "cell_type": "markdown",
   "id": "521c76ba",
   "metadata": {},
   "source": [
    "# Statistical analysis of biovolume SBWW\n",
    "\n",
    "First we import all relevant libraries. Then import our biovolume data (biovolume_SBWW.xlsx) the dataframe is displayed below. \n",
    "\n",
    "Since we have multiple groups with one independent variable (temperature) and want to compare them we do an one-way ANOVA for statistical analysis. Therefore before we do so we need to check if we violate the assumptions for doing the one-way ANOVA analysis. Assumptions are normality and equal variance. The analysis for determining if these assumptions hold are Shapiro-wilks and Levene's test respectivly. "
   ]
  },
  {
   "cell_type": "code",
   "execution_count": 2,
   "id": "8351af20",
   "metadata": {},
   "outputs": [],
   "source": [
    "import numpy as np\n",
    "from scipy import stats\n",
    "import pandas as pd\n",
    "import scikit_posthocs as sp"
   ]
  },
  {
   "cell_type": "code",
   "execution_count": 18,
   "id": "7cd2dc96",
   "metadata": {},
   "outputs": [
    {
     "data": {
      "text/html": [
       "<div>\n",
       "<style scoped>\n",
       "    .dataframe tbody tr th:only-of-type {\n",
       "        vertical-align: middle;\n",
       "    }\n",
       "\n",
       "    .dataframe tbody tr th {\n",
       "        vertical-align: top;\n",
       "    }\n",
       "\n",
       "    .dataframe thead th {\n",
       "        text-align: right;\n",
       "    }\n",
       "</style>\n",
       "<table border=\"1\" class=\"dataframe\">\n",
       "  <thead>\n",
       "    <tr style=\"text-align: right;\">\n",
       "      <th></th>\n",
       "      <th>SBWW_10</th>\n",
       "      <th>SBWW_15</th>\n",
       "      <th>SBWW_20</th>\n",
       "      <th>SBWW_25</th>\n",
       "    </tr>\n",
       "  </thead>\n",
       "  <tbody>\n",
       "    <tr>\n",
       "      <th>0</th>\n",
       "      <td>2001000000</td>\n",
       "      <td>3071000000</td>\n",
       "      <td>1650000000</td>\n",
       "      <td>2921000000</td>\n",
       "    </tr>\n",
       "    <tr>\n",
       "      <th>1</th>\n",
       "      <td>1609000000</td>\n",
       "      <td>1788000000</td>\n",
       "      <td>1874000000</td>\n",
       "      <td>3737000000</td>\n",
       "    </tr>\n",
       "    <tr>\n",
       "      <th>2</th>\n",
       "      <td>1504000000</td>\n",
       "      <td>5224000000</td>\n",
       "      <td>1509000000</td>\n",
       "      <td>2423000000</td>\n",
       "    </tr>\n",
       "  </tbody>\n",
       "</table>\n",
       "</div>"
      ],
      "text/plain": [
       "      SBWW_10     SBWW_15     SBWW_20     SBWW_25\n",
       "0  2001000000  3071000000  1650000000  2921000000\n",
       "1  1609000000  1788000000  1874000000  3737000000\n",
       "2  1504000000  5224000000  1509000000  2423000000"
      ]
     },
     "metadata": {},
     "output_type": "display_data"
    }
   ],
   "source": [
    "df1 = pd.read_excel('biovolume_SBWW.xlsx')\n",
    "display(df1) #Making dataframe from excel file"
   ]
  },
  {
   "cell_type": "code",
   "execution_count": 11,
   "id": "98f79ed9",
   "metadata": {},
   "outputs": [],
   "source": [
    "SBWW_10 = df1['SBWW_10'].values.tolist() #Putting each column from dataframe into lists\n",
    "SBWW_15 = df1['SBWW_15'].values.tolist() #Putting each column from dataframe into lists\n",
    "SBWW_20 = df1['SBWW_20'].values.tolist() #Putting each column from dataframe into lists\n",
    "SBWW_25 = df1['SBWW_25'].values.tolist() #Putting each column from dataframe into lists\n",
    "data = [SBWW_10, SBWW_15, SBWW_20, SBWW_25]"
   ]
  },
  {
   "cell_type": "code",
   "execution_count": 12,
   "id": "db52c6d4",
   "metadata": {},
   "outputs": [
    {
     "name": "stdout",
     "output_type": "stream",
     "text": [
      "[[2001000000, 1609000000, 1504000000], [3071000000, 1788000000, 5224000000], [1650000000, 1874000000, 1509000000], [2921000000, 3737000000, 2423000000]]\n"
     ]
    }
   ],
   "source": [
    "print(data)"
   ]
  },
  {
   "cell_type": "code",
   "execution_count": 13,
   "id": "d6ed132b",
   "metadata": {},
   "outputs": [
    {
     "data": {
      "text/plain": [
       "LeveneResult(statistic=1.9224103238567891, pvalue=0.20450453669099114)"
      ]
     },
     "execution_count": 13,
     "metadata": {},
     "output_type": "execute_result"
    }
   ],
   "source": [
    "stats.levene(SBWW_10, SBWW_15, SBWW_20, SBWW_25, center='median', proportiontocut=0.05)"
   ]
  },
  {
   "cell_type": "code",
   "execution_count": 14,
   "id": "7ca42b62",
   "metadata": {},
   "outputs": [
    {
     "name": "stdout",
     "output_type": "stream",
     "text": [
      "ShapiroResult(statistic=0.8999643325805664, pvalue=0.38538697361946106) ShapiroResult(statistic=0.9790767431259155, pvalue=0.7227675318717957) ShapiroResult(statistic=0.9830556511878967, pvalue=0.7506838440895081) ShapiroResult(statistic=0.9808510541915894, pvalue=0.7348626255989075)\n"
     ]
    }
   ],
   "source": [
    "print(stats.shapiro(SBWW_10),\n",
    "stats.shapiro(SBWW_15),\n",
    "stats.shapiro(SBWW_20),\n",
    "stats.shapiro(SBWW_25))"
   ]
  },
  {
   "cell_type": "markdown",
   "id": "0114380b",
   "metadata": {},
   "source": [
    "# Normality and equal variance\n",
    "\n",
    "Since in both the Shapiro-Wilks and Levene's test we do not have any significant difference there is evidence for normality and equal variance. therefore we proceed with a one-way ANOVA test."
   ]
  },
  {
   "cell_type": "code",
   "execution_count": 15,
   "id": "b1c4c2aa",
   "metadata": {},
   "outputs": [
    {
     "data": {
      "text/plain": [
       "F_onewayResult(statistic=2.602798790362317, pvalue=0.1242317001294995)"
      ]
     },
     "execution_count": 15,
     "metadata": {},
     "output_type": "execute_result"
    }
   ],
   "source": [
    "stats.f_oneway(SBWW_10, SBWW_15, SBWW_20, SBWW_25)"
   ]
  }
 ],
 "metadata": {
  "kernelspec": {
   "display_name": "Python 3 (ipykernel)",
   "language": "python",
   "name": "python3"
  },
  "language_info": {
   "codemirror_mode": {
    "name": "ipython",
    "version": 3
   },
   "file_extension": ".py",
   "mimetype": "text/x-python",
   "name": "python",
   "nbconvert_exporter": "python",
   "pygments_lexer": "ipython3",
   "version": "3.9.7"
  }
 },
 "nbformat": 4,
 "nbformat_minor": 5
}
